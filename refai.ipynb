{
 "cells": [
  {
   "cell_type": "code",
   "execution_count": 1,
   "metadata": {},
   "outputs": [
    {
     "name": "stderr",
     "output_type": "stream",
     "text": [
      "c:\\Users\\bioer\\.conda\\envs\\py311\\Lib\\site-packages\\tqdm\\auto.py:21: TqdmWarning: IProgress not found. Please update jupyter and ipywidgets. See https://ipywidgets.readthedocs.io/en/stable/user_install.html\n",
      "  from .autonotebook import tqdm as notebook_tqdm\n"
     ]
    }
   ],
   "source": [
    "from fastapi import FastAPI, Query, HTTPException\n",
    "from typing import List, Optional\n",
    "import requests\n",
    "# from openai import OpenAI\n",
    "# from google import genai\n",
    "import google.generativeai as genai\n",
    "# from bs4 import BeautifulSoup\n",
    "import re, time"
   ]
  },
  {
   "cell_type": "code",
   "execution_count": 2,
   "metadata": {},
   "outputs": [],
   "source": [
    "CROSSREF_API_URL = \"https://api.crossref.org/works\"\n",
    "SEMANTIC_SCHOLAR_API_URL = \"https://api.semanticscholar.org/v1/paper\"\n",
    "DOI_API_URL = \"https://doi.org\""
   ]
  },
  {
   "cell_type": "code",
   "execution_count": 10,
   "metadata": {},
   "outputs": [],
   "source": [
    "def clean_abstract(abstract: str) -> str:\n",
    "    return re.sub(r'<.*?>|Abstract', '', abstract)\n",
    "\n",
    "def format_citation(authors: List[dict], year: str, title: str, journal: str, volume: str, issue: str, pages: str) -> str:\n",
    "    formatted_authors = \", \".join([f\"{a['family']}, {a['given'][0]}.\" for a in authors])\n",
    "    return f\"{formatted_authors} ({year}). {title}. {journal}, {volume}({issue}), {pages}.\"\n",
    "\n",
    "def get_semantic_scholar_info(doi: str, api_key: str):\n",
    "    time.sleep(1)  # Rate limit: 1 request per second\n",
    "    headers = {\n",
    "        'x-api-key': api_key,\n",
    "        'User-Agent': 'Mozilla/5.0 (Windows NT 10.0; Win64; x64) AppleWebKit/537.36'\n",
    "    }\n",
    "    params = {'fields': 'title,abstract,authors,keywords'}\n",
    "    try: \n",
    "        response = requests.get(f\"{SEMANTIC_SCHOLAR_API_URL}/DOI:{doi}\", headers=headers, params=params)\n",
    "        # if response.status_code == 200:\n",
    "        print(\"Semantic result: \", params, response.json())\n",
    "        return response.json()\n",
    "    except requests.exceptions.HTTPError as e:\n",
    "        print(\"Semantic fail: \", params, headers, f\"{SEMANTIC_SCHOLAR_API_URL}/DOI:{doi}, str(e)\")\n",
    "        return None\n",
    "\n",
    "def process_paper_data(item, semantic_data=None):\n",
    "    title = item.get(\"title\", [\"\"])[0]\n",
    "    authors = item.get(\"author\", [])\n",
    "    doi = item.get(\"DOI\", \"\")\n",
    "    abstract = clean_abstract(item.get(\"abstract\", \"No abstract available\"))\n",
    "    publisher = item.get(\"publisher\", \"Unknown\")\n",
    "    journal = item.get(\"short-container-title\", [\"Unknown\"])[0]\n",
    "    published_date = item.get(\"published-print\", {}).get(\"date-parts\", [[\"Unknown\"]])[0]\n",
    "    published_date_str = \"-\".join(map(str, published_date)) if published_date != [\"Unknown\"] else \"Unknown\"\n",
    "\n",
    "    first_author = f\"{authors[0].get('given', '')} {authors[0].get('family', '')}\" if authors else \"Unknown\"\n",
    "    authors_list = \", \".join([f\"{a.get('given', '')} {a.get('family', '')}\" for a in authors]) if authors else \"Unknown\"\n",
    "\n",
    "    citation = format_citation(authors, str(published_date[0]), title, journal, item.get(\"volume\", \"\"), item.get(\"issue\", \"\"), item.get(\"page\", \"\"))\n",
    "    url = f\"{DOI_API_URL}/{doi}\"\n",
    "\n",
    "    keywords = \"\"\n",
    "    if semantic_data and \"keywords\" in semantic_data:\n",
    "        keywords = \", \".join(semantic_data[\"keywords\"])\n",
    "\n",
    "    return {\n",
    "        \"DOI\": doi,\n",
    "        \"title\": title,\n",
    "        \"firstAuthor\": first_author,\n",
    "        \"authors\": authors_list,\n",
    "        \"publisher\": publisher,\n",
    "        \"journal\": journal,\n",
    "        \"published_date\": published_date_str,\n",
    "        \"citation\": citation,\n",
    "        \"keyword\": keywords,\n",
    "        \"abstract\": abstract,\n",
    "        \"URL\": url\n",
    "    }"
   ]
  },
  {
   "cell_type": "code",
   "execution_count": 4,
   "metadata": {},
   "outputs": [],
   "source": [
    "def search_crossref(keyword: str, author: Optional[str] = None, semantic_scholar_key: Optional[str] = None):\n",
    "    query_params = {\"query.title\": keyword, \"rows\": 5}\n",
    "    if author:\n",
    "        query_params[\"query.author\"] = author\n",
    "\n",
    "    response = requests.get(CROSSREF_API_URL, params=query_params)\n",
    "    if response.status_code == 200:\n",
    "        data = response.json()\n",
    "        papers = []\n",
    "\n",
    "        for item in data[\"message\"][\"items\"]:\n",
    "            doi = item.get(\"DOI\", \"\")\n",
    "            semantic_data = get_semantic_scholar_info(doi, semantic_scholar_key) if semantic_scholar_key and doi else None\n",
    "            paper_info = process_paper_data(item, semantic_data)\n",
    "            papers.append(paper_info)\n",
    "\n",
    "        return papers\n",
    "    else:\n",
    "        raise HTTPException(status_code=response.status_code, detail=\"Failed to fetch from CrossRef API\")\n",
    "\n",
    "def search_by_doi(doi: str, semantic_scholar_key: Optional[str] = None):\n",
    "    response = requests.get(f\"{CROSSREF_API_URL}/{doi}\")\n",
    "    if response.status_code == 200:\n",
    "        item = response.json()[\"message\"]\n",
    "        semantic_data = get_semantic_scholar_info(doi, semantic_scholar_key) if semantic_scholar_key else None\n",
    "        return process_paper_data(item, semantic_data)\n",
    "    else:\n",
    "        raise HTTPException(status_code=response.status_code, detail=\"Failed to fetch from CrossRef API\")\n"
   ]
  },
  {
   "cell_type": "code",
   "execution_count": 5,
   "metadata": {},
   "outputs": [],
   "source": [
    "def analyze_with_gemini(info: dict, gemini_api_key: str, custom_prompt: str):\n",
    "    \"\"\"\n",
    "    Analyze paper information using Gemini AI with a custom prompt.\n",
    "    \"\"\"\n",
    "    try:\n",
    "        # Initialize the Gemini API with the API key\n",
    "        genai.configure(api_key=gemini_api_key)\n",
    "        \n",
    "        # Create the generation config\n",
    "        generation_config = {\n",
    "            \"temperature\": 0.9,\n",
    "            \"top_p\": 1,\n",
    "            \"top_k\": 1,\n",
    "            \"max_output_tokens\": 2048,\n",
    "        }\n",
    "\n",
    "        # Initialize the model\n",
    "        model = genai.GenerativeModel(\n",
    "            model_name=\"gemini-pro\",\n",
    "            generation_config=generation_config\n",
    "        )\n",
    "        \n",
    "        prompt = f\"\"\"{custom_prompt}\n",
    "\n",
    "Paper Information:\n",
    "- DOI: {info['DOI']}\n",
    "- Title: {info['title']}\n",
    "- First Author: {info['firstAuthor']}\n",
    "- Corresponding Author: {info['correspondingAuthor']}\n",
    "- Corresponding Email: {info['correspondenceTo']}\n",
    "- Authors: {info['authors']}\n",
    "- Citation: {info['citation']}\n",
    "- Keyword: {info['keyword']}\n",
    "\n",
    "Please provide a detailed analysis including:\n",
    "1. Key research contributions\n",
    "2. Methodology highlights\n",
    "3. Main findings\n",
    "4. Potential impact on the field\n",
    "\"\"\"\n",
    "\n",
    "        # Generate response\n",
    "        response = model.generate_content(prompt)\n",
    "        return response.text\n",
    "\n",
    "    except Exception as e:\n",
    "        raise HTTPException(status_code=500, detail=f\"Gemini API error: {str(e)}\")\n",
    "\n"
   ]
  },
  {
   "cell_type": "code",
   "execution_count": 7,
   "metadata": {},
   "outputs": [],
   "source": [
    "gpt_api_key = \"\"\n",
    "semantic_scholar_key = \"\"\n",
    "keyword = \"Eddy-Kuroshio interaction processes revealed by mooring observations off Taiwan and Luzon\"\n",
    "author = \"Cheng-Ju Tsai\"\n",
    "custom_prompt = \"Please analyze this research paper and provide key points in both English and 繁體中文.\"\n",
    "model = \"gemini-2.0-flash\" #\"gpt-3.5-turbo\"\n",
    "LLM = 'genai' #'openai'"
   ]
  },
  {
   "cell_type": "code",
   "execution_count": 12,
   "metadata": {},
   "outputs": [
    {
     "name": "stdout",
     "output_type": "stream",
     "text": [
      "Semantic result:  {'fields': 'title,abstract,authors,keywords'} {'abstract': None, 'arxivId': None, 'authors': [{'authorId': '49970758', 'name': 'Ching‐Hui Tsai', 'url': 'https://www.semanticscholar.org/author/49970758'}, {'authorId': '144292993', 'name': 'S. Hsu', 'url': 'https://www.semanticscholar.org/author/144292993'}, {'authorId': '31320894', 'name': 'Song-chuen Chen', 'url': 'https://www.semanticscholar.org/author/31320894'}, {'authorId': '105044345', 'name': 'Shiou‐Ya Wang', 'url': 'https://www.semanticscholar.org/author/105044345'}, {'authorId': '31897255', 'name': 'Lien-Kai Lin', 'url': 'https://www.semanticscholar.org/author/31897255'}, {'authorId': '2107818060', 'name': 'P. Huang', 'url': 'https://www.semanticscholar.org/author/2107818060'}, {'authorId': '2110719445', 'name': 'Kuan-Ting Chen', 'url': 'https://www.semanticscholar.org/author/2110719445'}, {'authorId': '11934743', 'name': 'Hsiao-Shan Lin', 'url': 'https://www.semanticscholar.org/author/11934743'}, {'authorId': '108632081', 'name': 'C. Liang', 'url': 'https://www.semanticscholar.org/author/108632081'}, {'authorId': '1907732', 'name': 'Yen-Yu Cho', 'url': 'https://www.semanticscholar.org/author/1907732'}], 'citationVelocity': 0, 'citations': [{'arxivId': None, 'authors': [{'authorId': '2048312373', 'name': 'Yi-Chin Lin'}, {'authorId': '2144383542', 'name': 'Jing‐Yi Lin'}, {'authorId': '2256821809', 'name': 'Shu-Kun Hsu'}, {'authorId': '2293210522', 'name': 'Song‐Chuen Chen'}, {'authorId': '116065198', 'name': 'Shiao-Shan Lin'}, {'authorId': '49970758', 'name': 'Ching‐Hui Tsai'}], 'doi': '10.1029/2023jc020176', 'intent': [], 'isInfluential': False, 'paperId': 'bf252c99cceda287b317d566f0de119ed045ed68', 'title': 'Gas Emission Characteristics and Tectonic Implications in the Southernmost Okinawa Trough From Split‐Beam Echo Sounder Observations', 'url': 'https://www.semanticscholar.org/paper/bf252c99cceda287b317d566f0de119ed045ed68', 'venue': 'Journal of Geophysical Research: Oceans', 'year': 2024}, {'arxivId': None, 'authors': [{'authorId': '46842672', 'name': 'Zuxing Chen'}, {'authorId': '94765238', 'name': 'Landry Soh Tamehe'}, {'authorId': '46867089', 'name': 'Yuxiang Zhang'}, {'authorId': '2110790251', 'name': 'Shuai Chen'}, {'authorId': '2552717', 'name': 'Z. Zeng'}, {'authorId': '3468726', 'name': 'Xuebo Yin'}, {'authorId': '49512081', 'name': 'Xiaoyuan Wang'}, {'authorId': '46425688', 'name': 'Haiyan Qi'}, {'authorId': '108270525', 'name': 'Mingjiang Cai'}], 'doi': '10.1016/j.lithos.2023.107229', 'intent': [], 'isInfluential': False, 'paperId': '83e9df5f36b0977424c38f1db311e2c8e2fa983b', 'title': 'Mafic magma recharge triggered eruption of a long-lived shallow silicic magma reservoir beneath a submarine volcano from the southwestern Okinawa Trough', 'url': 'https://www.semanticscholar.org/paper/83e9df5f36b0977424c38f1db311e2c8e2fa983b', 'venue': 'Lithos', 'year': 2023}, {'arxivId': None, 'authors': [{'authorId': '46842672', 'name': 'Zuxing Chen'}, {'authorId': '1395539120', 'name': 'Landry Soh Tamehe'}, {'authorId': '46425688', 'name': 'Haiyan Qi'}, {'authorId': '46867089', 'name': 'Yuxiang Zhang'}, {'authorId': '2552717', 'name': 'Z. Zeng'}, {'authorId': '108270525', 'name': 'Mingjiang Cai'}], 'doi': '10.3390/jmse11030583', 'intent': [], 'isInfluential': False, 'paperId': 'e4f73321f65cc06b7520c2a1ea48ec1c5b56fc24', 'title': 'Using Apatite to Track Volatile Evolution in the Shallow Magma Chamber below the Yonaguni Knoll IV Hydrothermal Field in the Southwestern Okinawa Trough', 'url': 'https://www.semanticscholar.org/paper/e4f73321f65cc06b7520c2a1ea48ec1c5b56fc24', 'venue': 'Journal of Marine Science and Engineering', 'year': 2023}, {'arxivId': None, 'authors': [{'authorId': '47505951', 'name': 'D. Luo'}, {'authorId': '2111763098', 'name': 'F. Cai'}, {'authorId': '2146067499', 'name': 'Qing Li'}, {'authorId': '104843795', 'name': 'Guijing Yan'}, {'authorId': '1830611', 'name': 'Yunbao Sun'}, {'authorId': '145476836', 'name': 'Ang Li'}, {'authorId': '2014912121', 'name': 'Gang Dong'}], 'doi': '10.3389/feart.2022.985597', 'intent': ['background'], 'isInfluential': False, 'paperId': '536ef5643bfc05fe7d5c4603524a0a0b02e3df35', 'title': 'Geophysical evidence for submarine methane seepage on the Western slope of Okinawa Trough', 'url': 'https://www.semanticscholar.org/paper/536ef5643bfc05fe7d5c4603524a0a0b02e3df35', 'venue': 'Frontiers in Earth Science', 'year': 2022}, {'arxivId': None, 'authors': [{'authorId': '2216607', 'name': 'B. Deffontaines'}, {'authorId': '50734396', 'name': 'Kuo-Jen Chang'}, {'authorId': '2162994786', 'name': 'Pichun Huang'}, {'authorId': '31363586', 'name': 'H. Hsu'}, {'authorId': '144292993', 'name': 'S. Hsu'}, {'authorId': '2048287285', 'name': 'Char‐Shine Liu'}, {'authorId': '104330508', 'name': 'C. Lee'}, {'authorId': '145220176', 'name': 'Samuel Magalhaes'}, {'authorId': '102254909', 'name': 'G. Fortunato'}], 'doi': '10.1016/j.tecto.2022.229362', 'intent': [], 'isInfluential': False, 'paperId': '348ea8e7819be676abde3407342abd9f993556ba', 'title': 'Neotectonics of the volcanic Kuei-Shan Tao island, and geodynamic implications (NE Taiwan - SW Okinawa Trough)', 'url': 'https://www.semanticscholar.org/paper/348ea8e7819be676abde3407342abd9f993556ba', 'venue': 'Tectonophysics', 'year': 2022}, {'arxivId': None, 'authors': [{'authorId': '30688729', 'name': 'Q. Nguyen'}, {'authorId': '144292993', 'name': 'S. Hsu'}, {'authorId': '144831830', 'name': 'A. Lin'}, {'authorId': '48473146', 'name': 'C. Yang'}], 'doi': '10.1016/j.tecto.2022.229254', 'intent': [], 'isInfluential': False, 'paperId': 'ab2ba32f4a3edbacef931b50bf7c2d6a57473044', 'title': 'Sedimentary sequences offshore northeastern Taiwan and the offshore projection of the Shanjiao Fault zone', 'url': 'https://www.semanticscholar.org/paper/ab2ba32f4a3edbacef931b50bf7c2d6a57473044', 'venue': 'Tectonophysics', 'year': 2022}], 'corpusId': 239636708, 'doi': '10.1016/j.tecto.2021.229047', 'fieldsOfStudy': ['Geology'], 'influentialCitationCount': 0, 'isOpenAccess': False, 'isPublisherLicensed': True, 'is_open_access': False, 'is_publisher_licensed': True, 'numCitedBy': 6, 'numCiting': 43, 'paperId': '53705b80b105223ca88a2288132c8a018928215d', 'references': [{'arxivId': None, 'authors': [{'authorId': '2000310172', 'name': 'H. Chen'}, {'authorId': '96892530', 'name': 'R. Ikuta'}, {'authorId': '7528560', 'name': 'Cheng‐Horng Lin'}, {'authorId': '3508606', 'name': 'Y. Hsu'}, {'authorId': '108760919', 'name': 'Takeru Kohmi'}, {'authorId': '1815892', 'name': 'Chau-Chang Wang'}, {'authorId': '2158158143', 'name': 'Shui‐Beih Yu'}, {'authorId': '121894376', 'name': 'Y. Tu'}, {'authorId': '33805027', 'name': 'T. Tsujii'}, {'authorId': '47151079', 'name': 'M. Ando'}], 'doi': '10.1002/2017GL075724', 'intent': [], 'isInfluential': False, 'paperId': '5ef27104eabf768f72117713dc852e3b27be0839', 'title': 'Back‐Arc Opening in the Western End of the Okinawa Trough Revealed From GNSS/Acoustic Measurements', 'url': 'https://www.semanticscholar.org/paper/5ef27104eabf768f72117713dc852e3b27be0839', 'venue': '', 'year': 2018}, {'arxivId': None, 'authors': [{'authorId': '46875320', 'name': 'J. Miyazaki'}, {'authorId': '6804404', 'name': 'S. Kawagucci'}, {'authorId': '3854867', 'name': 'Akiko Makabe'}, {'authorId': '33951837', 'name': 'A. Takahashi'}, {'authorId': '48426156', 'name': 'K. Kitada'}, {'authorId': '31883271', 'name': 'J. Torimoto'}, {'authorId': '3781919', 'name': 'Y. Matsui'}, {'authorId': '3902093', 'name': 'Eiji Tasumi'}, {'authorId': '47720501', 'name': 'T. Shibuya'}, {'authorId': '74506156', 'name': 'Kentaro Nakamura'}, {'authorId': '46944044', 'name': 'Shunsuke Horai'}, {'authorId': '6461387', 'name': 'S. Sato'}, {'authorId': '4343883', 'name': 'J. Ishibashi'}, {'authorId': '31931052', 'name': 'H. Kanzaki'}, {'authorId': '47097919', 'name': 'S. Nakagawa'}, {'authorId': '40100116', 'name': 'Miho Hirai'}, {'authorId': '5991589', 'name': 'Y. Takaki'}, {'authorId': '31561528', 'name': 'K. Okino'}, {'authorId': '47255619', 'name': 'H. Watanabe'}, {'authorId': '11486062', 'name': 'H. Kumagai'}, {'authorId': '27407205', 'name': 'Chong Chen'}], 'doi': '10.1098/rsos.171570', 'intent': [], 'isInfluential': False, 'paperId': 'a6f49f6a73109ee3a2774f162f4acb36476a2d7b', 'title': 'Deepest and hottest hydrothermal activity in the Okinawa Trough: the Yokosuka site at Yaeyama Knoll', 'url': 'https://www.semanticscholar.org/paper/a6f49f6a73109ee3a2774f162f4acb36476a2d7b', 'venue': 'Royal Society Open Science', 'year': 2017}, {'arxivId': None, 'authors': [{'authorId': '144292993', 'name': 'S. Hsu'}, {'authorId': '113660896', 'name': 'Y. Yeh'}, {'authorId': '16750774', 'name': 'J. Sibuet'}, {'authorId': '104533322', 'name': 'W. Doo'}, {'authorId': '49970758', 'name': 'Ching‐Hui Tsai'}], 'doi': '10.1016/J.EPSL.2012.11.053', 'intent': [], 'isInfluential': False, 'paperId': '4441d97d60bb0236f50374755bffdc9750eded2c', 'title': 'A mega-splay fault system and tsunami hazard in the southern Ryukyu subduction zone', 'url': 'https://www.semanticscholar.org/paper/4441d97d60bb0236f50374755bffdc9750eded2c', 'venue': '', 'year': 2013}, {'arxivId': None, 'authors': [{'authorId': '1388644103', 'name': 'A. Gungor'}, {'authorId': '13760031', 'name': 'G. Lee'}, {'authorId': '153761347', 'name': 'Han‐joon Kim'}, {'authorId': '2595024', 'name': 'Hyun-chul Han'}, {'authorId': '16515266', 'name': 'Moo-Hee Kang'}, {'authorId': '2116516054', 'name': 'Jinho Kim'}, {'authorId': '93490118', 'name': 'D. Sunwoo'}], 'doi': '10.1016/J.TECTO.2011.11.027', 'intent': [], 'isInfluential': False, 'paperId': '0858a128eb87852ed770dde8fa31a75a3ebeb7af', 'title': 'Structural characteristics of the northern Okinawa Trough and adjacent areas from regional seismic reflection data: Geologic and tectonic implications', 'url': 'https://www.semanticscholar.org/paper/0858a128eb87852ed770dde8fa31a75a3ebeb7af', 'venue': '', 'year': 2012}, {'arxivId': None, 'authors': [{'authorId': '2115665092', 'name': 'Yih‐Min Wu'}, {'authorId': '2259646788', 'name': 'J. Bruce H. Shyu'}, {'authorId': '87920838', 'name': 'Chien‐Hsin Chang'}, {'authorId': '87254014', 'name': 'Li Zhao'}, {'authorId': '2108943417', 'name': 'M. Nakamura'}, {'authorId': '144292993', 'name': 'S. Hsu'}], 'doi': '10.1111/J.1365-246X.2009.04180.X', 'intent': [], 'isInfluential': False, 'paperId': 'db68031e5e1eff4df3f87ce9323ea81ee5b9ddb5', 'title': 'Improved seismic tomography offshore northeastern Taiwan: Implications for subduction and collision processes between Taiwan and the southernmost Ryukyu', 'url': 'https://www.semanticscholar.org/paper/db68031e5e1eff4df3f87ce9323ea81ee5b9ddb5', 'venue': '', 'year': 2009}, {'arxivId': None, 'authors': [{'authorId': '46697730', 'name': 'Jing‐Yi Lin'}, {'authorId': '16750774', 'name': 'J. Sibuet'}, {'authorId': '108594544', 'name': 'Chao‐Shing Lee'}, {'authorId': '144292993', 'name': 'S. Hsu'}, {'authorId': '13635008', 'name': 'F. Klingelhoefer'}, {'authorId': '15510140', 'name': 'Y. Auffret'}, {'authorId': '103428372', 'name': 'P. Pelleau'}, {'authorId': '52338651', 'name': 'J. Crozon'}, {'authorId': '7528560', 'name': 'Cheng‐Horng Lin'}], 'doi': '10.1016/J.TECTO.2007.11.030', 'intent': [], 'isInfluential': False, 'paperId': '27a69dbf81735cfa0cdbb1067bf816346160e1f9', 'title': 'Microseismicity and faulting in the southwestern Okinawa Trough', 'url': 'https://www.semanticscholar.org/paper/27a69dbf81735cfa0cdbb1067bf816346160e1f9', 'venue': '', 'year': 2009}, {'arxivId': None, 'authors': [{'authorId': '46697730', 'name': 'Jing‐Yi Lin'}, {'authorId': '16750774', 'name': 'J. Sibuet'}, {'authorId': '108594544', 'name': 'Chao‐Shing Lee'}, {'authorId': '144292993', 'name': 'S. Hsu'}, {'authorId': '13635008', 'name': 'F. Klingelhoefer'}], 'doi': '10.1029/2006JB004703', 'intent': [], 'isInfluential': False, 'paperId': 'b36c88526990fab2a2257d10ece57ebe6d9fb626', 'title': 'Origin of the southern Okinawa Trough volcanism from detailed seismic tomography', 'url': 'https://www.semanticscholar.org/paper/b36c88526990fab2a2257d10ece57ebe6d9fb626', 'venue': '', 'year': 2007}, {'arxivId': None, 'authors': [{'authorId': '2107543057', 'name': 'C. H. Lin'}, {'authorId': '145337686', 'name': 'L. Hsu'}, {'authorId': '123458582', 'name': 'M. Ho'}, {'authorId': '98481058', 'name': 'T. Shin'}, {'authorId': '2110822365', 'name': 'K. J. Chen'}, {'authorId': '107757399', 'name': 'Y. Yeh'}], 'doi': '10.1029/2006GL029207', 'intent': [], 'isInfluential': False, 'paperId': 'e2fd527f55e8f4333edf3fdf0a280df09d2886a0', 'title': 'Low‐frequency submarine volcanic swarms at the southwestern end of the Okinawa Trough', 'url': 'https://www.semanticscholar.org/paper/e2fd527f55e8f4333edf3fdf0a280df09d2886a0', 'venue': '', 'year': 2007}, {'arxivId': None, 'authors': [{'authorId': '46697730', 'name': 'Jing‐Yi Lin'}, {'authorId': '144292993', 'name': 'S. Hsu'}, {'authorId': '16750774', 'name': 'J. Sibuet'}], 'doi': '10.1029/2004JB003260', 'intent': [], 'isInfluential': False, 'paperId': '390d1c3a9b8b60ec3e176ea752fd7b3c7ead53c4', 'title': 'Melting features along the western Ryukyu slab edge (northeast Taiwan): Tomographic evidence', 'url': 'https://www.semanticscholar.org/paper/390d1c3a9b8b60ec3e176ea752fd7b3c7ead53c4', 'venue': '', 'year': 2004}, {'arxivId': None, 'authors': [{'authorId': '2145430433', 'name': 'Young-Suk Lee'}, {'authorId': '2261249', 'name': 'Chih-Ling Tsai'}, {'authorId': '2143579006', 'name': 'Chuljoo Lee'}], 'doi': None, 'intent': [], 'isInfluential': False, 'paperId': 'ac55253ccb41c87833f42e8b21a0bc7915fccbbf', 'title': 'The study of active submarine volcanoes and hydrothermal vents in the Southernmost Part of Okinawa Trough', 'url': 'https://www.semanticscholar.org/paper/ac55253ccb41c87833f42e8b21a0bc7915fccbbf', 'venue': '', 'year': 2004}, {'arxivId': None, 'authors': [{'authorId': '46697730', 'name': 'Jing‐Yi Lin'}, {'authorId': '144292993', 'name': 'S. Hsu'}, {'authorId': '16750774', 'name': 'J. Sibuet'}], 'doi': '10.1029/2004GL020862', 'intent': [], 'isInfluential': False, 'paperId': '966de704a4fc3e20a2c8afcf5258939b2b952258', 'title': 'Melting features along the Ryukyu slab tear, beneath the southwestern Okinawa Trough', 'url': 'https://www.semanticscholar.org/paper/966de704a4fc3e20a2c8afcf5258939b2b952258', 'venue': '', 'year': 2004}, {'arxivId': None, 'authors': [{'authorId': '16750774', 'name': 'J. Sibuet'}, {'authorId': '144292993', 'name': 'S. Hsu'}], 'doi': '10.1016/J.TECTO.2003.10.022', 'intent': [], 'isInfluential': False, 'paperId': '9aa954e1bb3d98309178c278047e741af6a5a823', 'title': 'How was Taiwan created', 'url': 'https://www.semanticscholar.org/paper/9aa954e1bb3d98309178c278047e741af6a5a823', 'venue': '', 'year': 2004}, {'arxivId': None, 'authors': [{'authorId': '46324703', 'name': 'S. Lallemand'}, {'authorId': '50677017', 'name': 'Y. Font'}, {'authorId': '6755841', 'name': 'H. Bijwaard'}, {'authorId': '82469365', 'name': 'H. Kao'}], 'doi': '10.1016/S0040-1951(01)00071-3', 'intent': [], 'isInfluential': False, 'paperId': '49da3ae3af4192a58eb6808c61d821beffcb2368', 'title': 'New insights on 3-D plates interaction near Taiwan from tomography and tectonic implications', 'url': 'https://www.semanticscholar.org/paper/49da3ae3af4192a58eb6808c61d821beffcb2368', 'venue': '', 'year': 2001}, {'arxivId': None, 'authors': [{'authorId': '144292993', 'name': 'S. Hsu'}], 'doi': '10.1016/S0012-821X(01)00261-8', 'intent': [], 'isInfluential': False, 'paperId': '7f397b22c2c3473da79fe67053e042d285c2dc52', 'title': 'Lithospheric structure, buoyancy and coupling across the southernmost Ryukyu subduction zone: an example of decreasing plate coupling', 'url': 'https://www.semanticscholar.org/paper/7f397b22c2c3473da79fe67053e042d285c2dc52', 'venue': '', 'year': 2001}, {'arxivId': None, 'authors': [{'authorId': '48215655', 'name': 'R. Shinjo'}, {'authorId': '31949266', 'name': 'Y. Kato'}], 'doi': '10.1016/S0024-4937(00)00034-7', 'intent': [], 'isInfluential': False, 'paperId': '3b17b8ba42a373f2b01188fe95e70d0a280b712c', 'title': 'Geochemical constraints on the origin of bimodal magmatism at the Okinawa Trough, an incipient back-arc basin', 'url': 'https://www.semanticscholar.org/paper/3b17b8ba42a373f2b01188fe95e70d0a280b712c', 'venue': '', 'year': 2000}, {'arxivId': None, 'authors': [{'authorId': '144159955', 'name': 'S. Chung'}, {'authorId': '2108746293', 'name': 'S. Wang'}, {'authorId': '48215655', 'name': 'R. Shinjo'}, {'authorId': '2160405900', 'name': 'C.‐S. Lee'}, {'authorId': '2109021382', 'name': 'Ch. Chen'}], 'doi': '10.1046/j.1365-3121.2000.00298.x', 'intent': [], 'isInfluential': False, 'paperId': 'b238075c7f6e052745246198119fa837df11c3a3', 'title': 'Initiation of arc magmatism in an embryonic continental rifting zone of the southernmost part of Okinawa Trough', 'url': 'https://www.semanticscholar.org/paper/b238075c7f6e052745246198119fa837df11c3a3', 'venue': '', 'year': 2000}, {'arxivId': None, 'authors': [{'authorId': '2913535', 'name': 'Kuo‐Lung Wang'}, {'authorId': '21816262', 'name': 'S. Chung'}, {'authorId': '48239831', 'name': 'Changmin Chen'}, {'authorId': '48215655', 'name': 'R. Shinjo'}, {'authorId': '152233470', 'name': 'Tsanyao Frank Yang'}, {'authorId': '97913730', 'name': 'Cheng-Hong Chen'}], 'doi': '10.1016/S0040-1951(99)00111-0', 'intent': [], 'isInfluential': False, 'paperId': 'a553458b7a86878b45947e548857b76092ee5b31', 'title': 'Post-collisional magmatism around northern Taiwan and its relation with opening of the Okinawa Trough', 'url': 'https://www.semanticscholar.org/paper/a553458b7a86878b45947e548857b76092ee5b31', 'venue': '', 'year': 1999}, {'arxivId': None, 'authors': [{'authorId': '48215655', 'name': 'R. Shinjo'}, {'authorId': '144815378', 'name': 'Sun‐Lin Chung'}, {'authorId': '31949266', 'name': 'Y. Kato'}, {'authorId': '49052075', 'name': 'M. Kimura'}], 'doi': '10.1029/1999JB900040', 'intent': [], 'isInfluential': False, 'paperId': 'd2f3839f9793f92145d0fadcfa12e08b82c7bf10', 'title': 'Geochemical and Sr‐Nd isotopic characteristics of volcanic rocks from the Okinawa Trough and Ryukyu Arc: Implications for the evolution of a young, intracontinental back arc basin', 'url': 'https://www.semanticscholar.org/paper/d2f3839f9793f92145d0fadcfa12e08b82c7bf10', 'venue': '', 'year': 1999}, {'arxivId': None, 'authors': [{'authorId': '16750774', 'name': 'J. Sibuet'}, {'authorId': '2216607', 'name': 'B. Deffontaines'}, {'authorId': '144292993', 'name': 'S. Hsu'}, {'authorId': '70782203', 'name': 'Nicolas Thareau'}, {'authorId': '108565606', 'name': 'J. L. Formal'}, {'authorId': '2048287285', 'name': 'Char‐Shine Liu'}], 'doi': '10.1029/98JB01823', 'intent': [], 'isInfluential': False, 'paperId': '64b0f3bd0f8568854175cd06f4f5c6e1bf1b1673', 'title': 'Okinawa trough backarc basin: Early tectonic and magmatic evolution', 'url': 'https://www.semanticscholar.org/paper/64b0f3bd0f8568854175cd06f4f5c6e1bf1b1673', 'venue': '', 'year': 1998}, {'arxivId': None, 'authors': [{'authorId': '72297573', 'name': 'Jin-Oh Park'}, {'authorId': '47757915', 'name': 'H. Tokuyama'}, {'authorId': '2043178', 'name': 'M. Shinohara'}, {'authorId': '7636490', 'name': 'K. Suyehiro'}, {'authorId': '33393267', 'name': 'A. Taira'}], 'doi': '10.1016/S0040-1951(98)00150-4', 'intent': [], 'isInfluential': False, 'paperId': '26f4ff55329f2f68eb3ef10f41efe8a028fa528e', 'title': 'Seismic record of tectonic evolution and backarc rifting in the southern Ryukyu island arc system', 'url': 'https://www.semanticscholar.org/paper/26f4ff55329f2f68eb3ef10f41efe8a028fa528e', 'venue': '', 'year': 1998}, {'arxivId': None, 'authors': [{'authorId': '82469365', 'name': 'H. Kao'}, {'authorId': '2315377', 'name': 'S. J. Shen'}, {'authorId': '153143158', 'name': 'K. Ma'}], 'doi': '10.1029/97JB03510', 'intent': [], 'isInfluential': False, 'paperId': '4676b709a98b6a1dffa77a97bbeb33d138b52f97', 'title': 'Transition from oblique subduction to collision: Earthquakes in the southernmost Ryukyu arc‐Taiwan region', 'url': 'https://www.semanticscholar.org/paper/4676b709a98b6a1dffa77a97bbeb33d138b52f97', 'venue': '', 'year': 1998}, {'arxivId': None, 'authors': [{'authorId': '46343981', 'name': 'S. Kodaira'}, {'authorId': '5966008', 'name': 'T. Iwasaki'}, {'authorId': '70602545', 'name': 'T. Urabe'}, {'authorId': '50503819', 'name': 'T. Kanazawa'}, {'authorId': '104965767', 'name': 'F. Egloff'}, {'authorId': '50313631', 'name': 'J. Makris'}, {'authorId': '48402105', 'name': 'H. Shimamura'}], 'doi': '10.1016/S0040-1951(96)00025-X', 'intent': [], 'isInfluential': False, 'paperId': 'a6d0d85c9150bb97cf4884a56c4e1464b7dd098f', 'title': 'Crustal structure across the middle Ryukyu trench obtained from ocean bottom seismographic data', 'url': 'https://www.semanticscholar.org/paper/a6d0d85c9150bb97cf4884a56c4e1464b7dd098f', 'venue': '', 'year': 1996}, {'arxivId': None, 'authors': [{'authorId': '144292993', 'name': 'S. Hsu'}, {'authorId': '16750774', 'name': 'J. Sibuet'}, {'authorId': '108208204', 'name': 'S. Monti'}, {'authorId': '40431588', 'name': 'C. Shyu'}, {'authorId': '2048287285', 'name': 'Char‐Shine Liu'}], 'doi': '10.1007/BF00286076', 'intent': [], 'isInfluential': False, 'paperId': 'a0ba639aef917c09d8e28f8472e47344f47dbe44', 'title': 'Transition between the Okinawa trough backarc extension and the Taiwan collision: New insights on the southernmost Ryukyu subduction zone', 'url': 'https://www.semanticscholar.org/paper/a0ba639aef917c09d8e28f8472e47344f47dbe44', 'venue': '', 'year': 1996}, {'arxivId': None, 'authors': [{'authorId': '4199679', 'name': 'Masako Miki'}], 'doi': '10.1029/95JB00034', 'intent': [], 'isInfluential': False, 'paperId': '833fcd6206d9e35689a4053acabd59c9b0aed81c', 'title': 'Two‐phase opening model for the Okinawa Trough inferred from paleomagnetic study of the Ryukyu arc', 'url': 'https://www.semanticscholar.org/paper/833fcd6206d9e35689a4053acabd59c9b0aed81c', 'venue': '', 'year': 1995}, {'arxivId': None, 'authors': [{'authorId': '2216607', 'name': 'B. Deffontaines'}, {'authorId': '92132490', 'name': 'Jian‐Cheng Lee'}, {'authorId': '48737507', 'name': 'J. Angelier'}, {'authorId': '152422877', 'name': 'J. Carvalho'}, {'authorId': '38837571', 'name': 'J. Rudant'}], 'doi': '10.1029/94JB00733', 'intent': [], 'isInfluential': False, 'paperId': '333f88cc50bd61346ddfb273fa0ec5bf6d286dd0', 'title': 'New geomorphic data on the active Taiwan orogen: A multisource approach', 'url': 'https://www.semanticscholar.org/paper/333f88cc50bd61346ddfb273fa0ec5bf6d286dd0', 'venue': '', 'year': 1994}, {'arxivId': None, 'authors': [{'authorId': '31199757', 'name': 'N. Hirata'}, {'authorId': '92797452', 'name': 'H. Kinoshita'}, {'authorId': '10242744', 'name': 'H. Katao'}, {'authorId': '1661100909', 'name': 'H. Baba'}, {'authorId': '3881048', 'name': 'Y. Kaiho'}, {'authorId': '95559159', 'name': 'S. Koresawa'}, {'authorId': '2052827367', 'name': 'Y. Ono'}, {'authorId': '102652591', 'name': 'K. Hayashi'}], 'doi': None, 'intent': [], 'isInfluential': False, 'paperId': '2202d6a22493aae58779920a96776066f5ed9bae', 'title': 'Report on DELP 1988 Cruises in the Okinawa Trough : Part 3. Crustal structure of the southern Okinawa Trough', 'url': 'https://www.semanticscholar.org/paper/2202d6a22493aae58779920a96776066f5ed9bae', 'venue': '', 'year': 1991}, {'arxivId': None, 'authors': [{'authorId': '16750774', 'name': 'J. Sibuet'}, {'authorId': '104638941', 'name': 'J. Letouzey'}, {'authorId': '117236037', 'name': 'Fl Barbier'}, {'authorId': '47544656', 'name': 'J. Charvet'}, {'authorId': '145821802', 'name': 'J. Foucher'}, {'authorId': '144660508', 'name': 'T. Hilde'}, {'authorId': '49052075', 'name': 'M. Kimura'}, {'authorId': '5150927', 'name': 'L. Chiao'}, {'authorId': '30810148', 'name': 'B. Marsset'}, {'authorId': '32619301', 'name': 'C. Müller'}, {'authorId': '143763413', 'name': 'J. Stephan'}], 'doi': '10.1029/JB092IB13P14041', 'intent': [], 'isInfluential': False, 'paperId': 'b423e236ca0d17b33248f044f35505d1f1109f3f', 'title': 'Back Arc Extension in the Okinawa Trough', 'url': 'https://www.semanticscholar.org/paper/b423e236ca0d17b33248f044f35505d1f1109f3f', 'venue': '', 'year': 1987}, {'arxivId': None, 'authors': [{'authorId': '104638941', 'name': 'J. Letouzey'}, {'authorId': '49052075', 'name': 'M. Kimura'}], 'doi': '10.1016/0040-1951(86)90015-6', 'intent': [], 'isInfluential': False, 'paperId': 'fe118b7fa1b2172dc6c442b6d99b11a27fce6d6c', 'title': 'THE OKINAWA TROUGH: GENESIS OF A BACK-ARC BASIN DEVELOPING ALONG A CONTINENTAL MARGIN', 'url': 'https://www.semanticscholar.org/paper/fe118b7fa1b2172dc6c442b6d99b11a27fce6d6c', 'venue': '', 'year': 1986}, {'arxivId': None, 'authors': [{'authorId': '49052075', 'name': 'M. Kimura'}], 'doi': '10.1016/0264-8172(85)90012-1', 'intent': [], 'isInfluential': False, 'paperId': '3a14ea5dc0e685ac238ad3087ed53fea17cf2fef', 'title': 'Back-arc rifting in the Okinawa Trough', 'url': 'https://www.semanticscholar.org/paper/3a14ea5dc0e685ac238ad3087ed53fea17cf2fef', 'venue': '', 'year': 1985}, {'arxivId': None, 'authors': [{'authorId': '108594544', 'name': 'Chao‐Shing Lee'}, {'authorId': '47621175', 'name': 'G. Shor'}, {'authorId': '31265390', 'name': 'L. Bibee'}, {'authorId': '50394649', 'name': 'R. S. Lu'}, {'authorId': '144660508', 'name': 'T. Hilde'}], 'doi': '10.1016/0025-3227(80)90032-8', 'intent': [], 'isInfluential': False, 'paperId': '114bbee1e9b5c7c8cd674cc388ff519fe6f846c4', 'title': 'Okinawa Trough: Origin of a back-arc basin', 'url': 'https://www.semanticscholar.org/paper/114bbee1e9b5c7c8cd674cc388ff519fe6f846c4', 'venue': '', 'year': 1980}, {'arxivId': None, 'authors': [{'authorId': '46697730', 'name': 'Jing‐Yi Lin'}, {'authorId': '2218679679', 'name': 'Wen-Nan Wu'}, {'authorId': '10724129', 'name': 'C. Su'}, {'authorId': '49970758', 'name': 'Ching‐Hui Tsai'}, {'authorId': '2220124527', 'name': 'Hsu-Hsiao Sun'}, {'authorId': '2048678409', 'name': 'Yen-Fu Chen'}, {'authorId': '122758427', 'name': 'S. Chin'}, {'authorId': '2048312373', 'name': 'Yi-Chin Lin'}], 'doi': '10.3319/tao.2018.12.24.01', 'intent': [], 'isInfluential': False, 'paperId': '3c81f737bb12403081d6c7f48f5a350d43600427', 'title': 'Spatial and temporal distribution of low frequency volcanic earthquakes in the southern Okinawa Trough back-arc basin', 'url': 'https://www.semanticscholar.org/paper/3c81f737bb12403081d6c7f48f5a350d43600427', 'venue': 'Terrestrial, Atmospheric and Oceanic Sciences', 'year': 2019}, {'arxivId': None, 'authors': [{'authorId': '49970758', 'name': 'Ching‐Hui Tsai'}, {'authorId': '144292993', 'name': 'S. Hsu'}, {'authorId': '2048678409', 'name': 'Yen-Fu Chen'}, {'authorId': '11934743', 'name': 'Hsiao-Shan Lin'}, {'authorId': '105044345', 'name': 'Shiou‐Ya Wang'}, {'authorId': '31320894', 'name': 'Song-chuen Chen'}, {'authorId': '108632081', 'name': 'C. Liang'}, {'authorId': '1907732', 'name': 'Yen-Yu Cho'}], 'doi': '10.3319/tao.2019.07.07.01', 'intent': [], 'isInfluential': False, 'paperId': 'ded6e059b0dab9edc49907cfa5a058d1e215de07', 'title': 'Gas plumes and near-seafloor bottom current speeds of the southernmost Okinawa Trough determined from echo sounders', 'url': 'https://www.semanticscholar.org/paper/ded6e059b0dab9edc49907cfa5a058d1e215de07', 'venue': 'Terrestrial, Atmospheric and Oceanic Sciences', 'year': 2019}, {'arxivId': None, 'authors': [{'authorId': '145830322', 'name': 'C. Lo'}, {'authorId': '2218679679', 'name': 'Wen-Nan Wu'}, {'authorId': '104533322', 'name': 'W. Doo'}, {'authorId': '2000245132', 'name': 'Yingzhu Huang'}, {'authorId': '144292993', 'name': 'S. Hsu'}], 'doi': '10.3319/tao.2019.08.09.01', 'intent': [], 'isInfluential': False, 'paperId': 'a5a525ab6f37c2c9bda56bd02407d52f464d0728', 'title': 'Crustal stress field in Ilan Plain, NE Taiwan and the westernmost Okinawa trough-deduced from seismic stress inversion', 'url': 'https://www.semanticscholar.org/paper/a5a525ab6f37c2c9bda56bd02407d52f464d0728', 'venue': 'Terrestrial, Atmospheric and Oceanic Sciences', 'year': 2019}, {'arxivId': None, 'authors': [{'authorId': '31320894', 'name': 'Song-chuen Chen'}, {'authorId': '46697730', 'name': 'Jing‐Yi Lin'}, {'authorId': '10724129', 'name': 'C. Su'}, {'authorId': '104533322', 'name': 'W. Doo'}], 'doi': '10.3319/tao.2019.08.27.01', 'intent': [], 'isInfluential': False, 'paperId': '8fe26795953256bc416b878aa82ce7bd7537552f', 'title': 'Introduction to the special issue on tectonic environment and seabed resources of the southern Okinawa Trough', 'url': 'https://www.semanticscholar.org/paper/8fe26795953256bc416b878aa82ce7bd7537552f', 'venue': 'Terrestrial, Atmospheric and Oceanic Sciences', 'year': 2019}, {'arxivId': None, 'authors': [{'authorId': '31363586', 'name': 'H. Hsu'}, {'authorId': '2110901951', 'name': 'Liang Lin'}, {'authorId': '2048287285', 'name': 'Char‐Shine Liu'}, {'authorId': '104170539', 'name': 'Jih‐Hsin Chang'}, {'authorId': '47228880', 'name': 'W. Liao'}, {'authorId': '1490862333', 'name': 'Tzu-Ting Chen'}, {'authorId': '151071382', 'name': 'Kuo-Han Chao'}, {'authorId': '2218394260', 'name': 'Sheng-Lung Lin'}, {'authorId': '144080405', 'name': 'Hsin-Sung Hsieh'}, {'authorId': '31320894', 'name': 'Song-chuen Chen'}], 'doi': '10.3319/tao.2019.03.14.02', 'intent': [], 'isInfluential': False, 'paperId': 'd519490d374a0c93ae7ccda8b9ce1960c0ea457e', 'title': 'Pseudo-3D seismic imaging of Geolin Mounds hydrothermal field in the Southern Okinawa Trough offshore NE Taiwan', 'url': 'https://www.semanticscholar.org/paper/d519490d374a0c93ae7ccda8b9ce1960c0ea457e', 'venue': 'Terrestrial, Atmospheric and Oceanic Sciences', 'year': 2019}, {'arxivId': None, 'authors': [{'authorId': '49970758', 'name': 'Ching‐Hui Tsai'}, {'authorId': '108508242', 'name': 'Chi-Lo Huang'}, {'authorId': '144292993', 'name': 'S. Hsu'}, {'authorId': '104533322', 'name': 'W. Doo'}, {'authorId': '116065198', 'name': 'Shiao-Shan Lin'}, {'authorId': '105044345', 'name': 'Shiou‐Ya Wang'}, {'authorId': '46697730', 'name': 'Jing‐Yi Lin'}, {'authorId': '108632081', 'name': 'C. Liang'}], 'doi': '10.3319/tao.2017.07.02.01', 'intent': [], 'isInfluential': False, 'paperId': 'b26b01d6657bd5615fc3af12bc376119780ad09d', 'title': 'Active normal faults and submarine landslides in the Keelung Shelf off NE Taiwan', 'url': 'https://www.semanticscholar.org/paper/b26b01d6657bd5615fc3af12bc376119780ad09d', 'venue': '', 'year': 2018}, {'arxivId': None, 'authors': [{'authorId': '104513211', 'name': 'O. Fabbri'}, {'authorId': '13748309', 'name': 'P. Monié'}, {'authorId': '144913811', 'name': 'M. Fournier'}], 'doi': '10.1144/GSL.SP.2004.227.01.15', 'intent': [], 'isInfluential': False, 'paperId': '86226e82ee9cf4a6cefc006cec767ccfa517616a', 'title': 'Transtensional deformation at the junction between the Okinawa trough back-arc basin and the SW Japan island arc', 'url': 'https://www.semanticscholar.org/paper/86226e82ee9cf4a6cefc006cec767ccfa517616a', 'venue': 'Geological Society, London, Special Publications', 'year': 2004}, {'arxivId': None, 'authors': [{'authorId': '31561528', 'name': 'K. Okino'}, {'authorId': '47757915', 'name': 'H. Tokuyama'}, {'authorId': '114356932', 'name': 'Scientific Party Hotwater'}, {'authorId': '16750774', 'name': 'J. Sibuet'}, {'authorId': '108594544', 'name': 'Chao‐Shing Lee'}, {'authorId': '48060799', 'name': 'A. Takeuchi'}, {'authorId': '2093391827', 'name': 'N. Nakamura'}, {'authorId': '46865667', 'name': 'Masaharu Watanabe'}, {'authorId': '40605198', 'name': 'K. Kameo'}, {'authorId': '24848350', 'name': 'M. Asada'}, {'authorId': '2028997617', 'name': 'M. Takaesu'}, {'authorId': '2118542938', 'name': 'C. Tsai'}, {'authorId': '113660896', 'name': 'Y. Yeh'}, {'authorId': '2072063246', 'name': 'F. Yamamoto'}, {'authorId': '1713620203', 'name': 'P. Bergman'}, {'authorId': '103855324', 'name': 'N. Togashi'}, {'authorId': '91891440', 'name': 'T. Gamo'}, {'authorId': '35083769', 'name': 'T. Oomori'}, {'authorId': '71928858', 'name': 'H. Chiba'}, {'authorId': '48383615', 'name': 'H. Obata'}, {'authorId': '47256678', 'name': 'T. Noguchi'}, {'authorId': '12562620', 'name': 'H. Hamamoto'}, {'authorId': '46511049', 'name': 'T. Tsuji'}, {'authorId': '48215655', 'name': 'R. Shinjo'}, {'authorId': '24935112', 'name': 'S. Haraguchi'}, {'authorId': '2067234719', 'name': 'T. Toyama'}, {'authorId': '6597858', 'name': 'R. Murakami'}, {'authorId': '50205774', 'name': 'M. Ikehara'}, {'authorId': '2181817', 'name': 'Y. Suganuma'}, {'authorId': '2057650895', 'name': 'A. Matsuda'}, {'authorId': '52558342', 'name': 'N. Kawamura'}], 'doi': None, 'intent': [], 'isInfluential': False, 'paperId': '6ad87b0438878ec314c20cb2f8dbd3f8b0c86868', 'title': 'Deep-tow sonar “ WADATSUMI ” survey in the Okinawa Trough', 'url': 'https://www.semanticscholar.org/paper/6ad87b0438878ec314c20cb2f8dbd3f8b0c86868', 'venue': '', 'year': 2002}, {'arxivId': None, 'authors': [{'authorId': '16750774', 'name': 'J. Sibuet'}, {'authorId': '144292993', 'name': 'S. Hsu'}, {'authorId': '40431588', 'name': 'C. Shyu'}, {'authorId': '2048287285', 'name': 'Char‐Shine Liu'}], 'doi': '10.1007/978-1-4615-1843-3_9', 'intent': [], 'isInfluential': False, 'paperId': '26a5a6a548d4b16cec0531db177abc0cbafe8bf6', 'title': 'Structural and Kinematic Evolutions of the Okinawa Trough Backarc Basin', 'url': 'https://www.semanticscholar.org/paper/26a5a6a548d4b16cec0531db177abc0cbafe8bf6', 'venue': '', 'year': 1995}], 's2FieldsOfStudy': [{'category': 'Geology', 'source': 'external'}, {'category': 'Geology', 'source': 's2-fos-model'}, {'category': 'Environmental Science', 'source': 's2-fos-model'}], 'title': 'Active tectonics and volcanism in the southernmost Okinawa Trough back-arc basin derived from deep-towed sonar surveys', 'topics': [], 'url': 'https://www.semanticscholar.org/paper/53705b80b105223ca88a2288132c8a018928215d', 'venue': 'Tectonophysics', 'year': 2021}\n"
     ]
    },
    {
     "data": {
      "text/plain": [
       "[{'DOI': '10.1016/j.tecto.2021.229047',\n",
       "  'title': 'Active tectonics and volcanism in the southernmost Okinawa Trough back-arc basin derived from deep-towed sonar surveys',\n",
       "  'firstAuthor': 'Ching-Hui Tsai',\n",
       "  'authors': 'Ching-Hui Tsai, Shu-Kun Hsu, Song-Chuen Chen, Shiou-Ya Wang, Lien-Kai Lin, Pi-Chun Huang, Kuan-Ting Chen, Hsiao-Shan Lin, Chin-Wei Liang, Yen-Yu Cho',\n",
       "  'publisher': 'Elsevier BV',\n",
       "  'journal': 'Tectonophysics',\n",
       "  'published_date': '2021-10',\n",
       "  'citation': 'Tsai, C., Hsu, S., Chen, S., Wang, S., Lin, L., Huang, P., Chen, K., Lin, H., Liang, C., Cho, Y. (2021). Active tectonics and volcanism in the southernmost Okinawa Trough back-arc basin derived from deep-towed sonar surveys. Tectonophysics, 817(), 229047.',\n",
       "  'keyword': '',\n",
       "  'abstract': 'No abstract available',\n",
       "  'URL': 'https://doi.org/10.1016/j.tecto.2021.229047'}]"
      ]
     },
     "execution_count": 12,
     "metadata": {},
     "output_type": "execute_result"
    }
   ],
   "source": [
    "papers = search_crossref(keyword, author)\n",
    "doi = \"10.1016/j.tecto.2021.229047\" #\"10.1002/2015GL065814\"\n",
    "use_ai = False\n",
    "if True:    \n",
    "    try:\n",
    "        if doi:\n",
    "            papers = [search_by_doi(doi, semantic_scholar_key)]\n",
    "        else:\n",
    "            if not keyword:\n",
    "                raise HTTPException(status_code=400, detail=\"Keyword is required if DOI is not provided.\")\n",
    "            papers = search_crossref(keyword, author, semantic_scholar_key)\n",
    "\n",
    "        results = []\n",
    "        for paper in papers:\n",
    "            if use_ai and gpt_api_key:\n",
    "                try:\n",
    "                    paper[\"keypoint\"] = analyze_with_gemini(paper, gpt_api_key, custom_prompt)\n",
    "                except Exception as e:\n",
    "                    paper[\"keypoint\"] = f\"Error analyzing paper: {str(e)}\"\n",
    "            #results.append(PaperInfo(**paper))\n",
    "\n",
    "        #return results\n",
    "\n",
    "    except Exception as e:\n",
    "        raise HTTPException(status_code=500, detail=str(e))\n",
    "\n",
    "papers    "
   ]
  }
 ],
 "metadata": {
  "kernelspec": {
   "display_name": "py311",
   "language": "python",
   "name": "python3"
  },
  "language_info": {
   "codemirror_mode": {
    "name": "ipython",
    "version": 3
   },
   "file_extension": ".py",
   "mimetype": "text/x-python",
   "name": "python",
   "nbconvert_exporter": "python",
   "pygments_lexer": "ipython3",
   "version": "3.11.9"
  }
 },
 "nbformat": 4,
 "nbformat_minor": 2
}
